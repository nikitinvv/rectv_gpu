{
 "cells": [
  {
   "cell_type": "code",
   "execution_count": 1,
   "metadata": {},
   "outputs": [
    {
     "name": "stderr",
     "output_type": "stream",
     "text": [
      "astropy module not found\n",
      "olefile module not found\n"
     ]
    }
   ],
   "source": [
    "import rectv_gpu\n",
    "import numpy as np\n",
    "import h5py\n",
    "import dxchange\n",
    "import matplotlib.pyplot as plt\n",
    "from ipywidgets import interact, interactive, fixed, interact_manual\n",
    "import ipywidgets as widgets\n",
    "%matplotlib inline"
   ]
  },
  {
   "cell_type": "markdown",
   "metadata": {},
   "source": [
    "Initiate basis functions for function decomposition $u=\\sum_{j=0}^{m-1}u_j\\varphi_j$"
   ]
  },
  {
   "cell_type": "code",
   "execution_count": 2,
   "metadata": {},
   "outputs": [],
   "source": [
    "def takephi(ntheta):\n",
    "    m = 16  # number of basis functions\n",
    "    [x, y] = np.meshgrid(np.arange(-ntheta//2, ntheta//2), np.arange(-m//2, m//2))\n",
    "    phi = np.zeros([m, 2*ntheta], dtype='float32')\n",
    "    phi[:, ::2] = np.cos(2*np.pi*x*y/ntheta)/np.sqrt(ntheta)\n",
    "    phi[:, 1::2] = np.sin(2*np.pi*x*y/ntheta)/np.sqrt(ntheta)\n",
    "    return phi"
   ]
  },
  {
   "cell_type": "code",
   "execution_count": 3,
   "metadata": {},
   "outputs": [],
   "source": [
    "# with h5py.File('/data/2023-04/Sun/dark_fields_Ren_ink_1perc_0p008_23_030.h5','r') as fid:\n",
    "#     dark = fid['/exchange/data_dark'][:,:32]\n",
    "\n",
    "# with h5py.File('/data/2023-04/Sun/flat_fields_Ren_ink_1perc_0p008_23_030.h5','r') as fid:\n",
    "#     flat = fid['/exchange/data_white'][:,:32]    \n",
    "\n",
    "# with h5py.File('/data/2023-04/Sun/Ren_ink_1perc_0p008_23_030.h5','r') as fid:\n",
    "#     data = fid['/exchange/data'][:90*16,:32]        \n",
    "#     theta = fid['/exchange/theta'][:90*16]*0.9977/180*np.pi\n",
    "# data = -np.log((data-np.mean(dark,axis=0))/(1e-3+np.mean(flat,axis=0)-np.mean(dark,axis=0))).swapaxes(0,1)\n",
    "\n",
    "\n",
    "with h5py.File('/data/2023-04/Sun_rec/Ren_ink_1perc_0p008_23_030_rec.h5','r') as fid:\n",
    "    data = fid['/exchange/data'][:90*16,:64]        \n",
    "    theta = fid['/exchange/theta'][:90*16]*0.9977/180*np.pi\n",
    "    data = data.astype('float32')\n",
    "theta-=theta[0]\n",
    "data=np.ascontiguousarray(data.swapaxes(0,1))\n",
    "theta=np.ascontiguousarray(theta)\n"
   ]
  },
  {
   "cell_type": "code",
   "execution_count": 4,
   "metadata": {},
   "outputs": [
    {
     "data": {
      "text/plain": [
       "(128, 1440, 480)"
      ]
     },
     "execution_count": 4,
     "metadata": {},
     "output_type": "execute_result"
    }
   ],
   "source": [
    "# def remove_stripe_ti(data, beta, mask_size):\n",
    "#     \"\"\"Remove stripes with a new method by V. Titareno \"\"\"\n",
    "#     gamma = beta*((1-beta)/(1+beta)\n",
    "#                   )**np.abs(np.fft.fftfreq(data.shape[-1])*data.shape[-1])\n",
    "#     gamma[0] -= 1\n",
    "#     v = np.mean(data, axis=0)\n",
    "#     v = v-v[:, 0:1]\n",
    "#     v = np.fft.irfft(np.fft.rfft(v)*np.fft.rfft(gamma))\n",
    "#     mask = np.zeros(v.shape, dtype=v.dtype)\n",
    "#     mask_size = mask_size*mask.shape[1]\n",
    "#     mask[:, mask.shape[1]//2-mask_size//2:mask.shape[1]//2+mask_size//2] = 1\n",
    "#     data[:] += v*mask\n",
    "#     return data\n",
    "# data=remove_stripe_ti(data.swapaxes(0,1),0.022,data.shape[-1]).swapaxes(0,1)\n",
    "data.shape"
   ]
  },
  {
   "cell_type": "markdown",
   "metadata": {},
   "source": [
    "Read numpy array with already filtered data"
   ]
  },
  {
   "cell_type": "code",
   "execution_count": 5,
   "metadata": {},
   "outputs": [
    {
     "name": "stdout",
     "output_type": "stream",
     "text": [
      "[128, 1440, 480]\n"
     ]
    }
   ],
   "source": [
    "#data = np.load(\"foambin2.npy\")\n",
    "[nz, ntheta, n] = data.shape\n",
    "print([nz,ntheta,n])"
   ]
  },
  {
   "cell_type": "markdown",
   "metadata": {},
   "source": [
    "Set the rotation center and projection angles. In this example we have 8 intervals of size $\\pi$"
   ]
  },
  {
   "cell_type": "code",
   "execution_count": 6,
   "metadata": {},
   "outputs": [],
   "source": [
    "rot_center = 256.0"
   ]
  },
  {
   "cell_type": "markdown",
   "metadata": {},
   "source": [
    "Visualization"
   ]
  },
  {
   "cell_type": "code",
   "execution_count": 7,
   "metadata": {},
   "outputs": [],
   "source": [
    "def dataplot(slice):\n",
    "    plt.figure(figsize=(15,8))\n",
    "    plt.ylabel('x')\n",
    "    plt.xlabel('theta')    \n",
    "    plt.imshow(data[slice].swapaxes(0,1),cmap='gray')"
   ]
  },
  {
   "cell_type": "code",
   "execution_count": 8,
   "metadata": {},
   "outputs": [
    {
     "data": {
      "application/vnd.jupyter.widget-view+json": {
       "model_id": "fe5e3b89b72842f090edd74813278a96",
       "version_major": 2,
       "version_minor": 0
      },
      "text/plain": [
       "interactive(children=(IntSlider(value=64, description='slice', max=127), Output()), _dom_classes=('widget-inte…"
      ]
     },
     "metadata": {},
     "output_type": "display_data"
    }
   ],
   "source": [
    "interact(dataplot,  slice=widgets.IntSlider(min=0, max=data.shape[0]-1,value=data.shape[0]//2));"
   ]
  },
  {
   "cell_type": "markdown",
   "metadata": {},
   "source": [
    "The method is solving the problem $\\|\\mathcal{R}_\\text{apr}u-\\text{data}\\|_2^2+\\lambda_0\\Big\\|\\sqrt{\\frac{\\partial u}{\\partial x}+\\frac{\\partial u}{\\partial y}+\\frac{\\partial u}{\\partial z}+\\lambda_1\\frac{\\partial u}{\\partial t}}\\Big\\|_1\\to \\min$, $\\quad$ where $\\mathcal{R}_\\text{apr}u=\\sum_{j=0}^{m-1}\\mathcal{R}u_j\\varphi_j$"
   ]
  },
  {
   "cell_type": "markdown",
   "metadata": {},
   "source": [
    "Init $\\lambda_0$ and $\\lambda_1$:"
   ]
  },
  {
   "cell_type": "code",
   "execution_count": 9,
   "metadata": {},
   "outputs": [],
   "source": [
    "lambda0 = 1.5e-3  # regularization parameter 1\n",
    "lambda1 = 4  # regularization parameter 2"
   ]
  },
  {
   "cell_type": "markdown",
   "metadata": {},
   "source": [
    "The minimization problem is solved by the ADMM scheme with using 'niter' outer ADMM iterations and 'titer' inner tomography iterations. 'titer' in practice should be low.    "
   ]
  },
  {
   "cell_type": "code",
   "execution_count": 10,
   "metadata": {},
   "outputs": [],
   "source": [
    "niter = 128  # number of ADMM iterations\n",
    "titer = 4  # number of inner tomography iterations"
   ]
  },
  {
   "cell_type": "markdown",
   "metadata": {},
   "source": [
    "All computations are done on GPUs, where parallelization is done by slices. Variable 'nzp' is the number of slices to process simultaneously by one gpu. 'nzp' is chosen with respect to GPU memory sizes and should be a multiple of 'nz'.     "
   ]
  },
  {
   "cell_type": "code",
   "execution_count": 11,
   "metadata": {},
   "outputs": [],
   "source": [
    "nzp = 8 # number of slices to process simultaniously by gpu\n",
    "ngpus = 1 # number of gpus "
   ]
  },
  {
   "cell_type": "markdown",
   "metadata": {},
   "source": [
    "Take basis functions for decomposition "
   ]
  },
  {
   "cell_type": "code",
   "execution_count": 12,
   "metadata": {},
   "outputs": [],
   "source": [
    "phi = takephi(ntheta) \n",
    "m = phi.shape[0] # number of basis functions"
   ]
  },
  {
   "cell_type": "markdown",
   "metadata": {},
   "source": [
    "Create a class for reconstruction. The class handles CPU and GPU memory allocation in the C++ context."
   ]
  },
  {
   "cell_type": "code",
   "execution_count": 13,
   "metadata": {},
   "outputs": [],
   "source": [
    "cl = rectv_gpu.Solver(n, ntheta, m, nz, nzp, ngpus)   "
   ]
  },
  {
   "cell_type": "markdown",
   "metadata": {},
   "source": [
    "Run reconstruction"
   ]
  },
  {
   "cell_type": "code",
   "execution_count": 14,
   "metadata": {},
   "outputs": [
    {
     "data": {
      "text/plain": [
       "(480,\n",
       " 1440,\n",
       " 16,\n",
       " 128,\n",
       " 8,\n",
       " 1,\n",
       " (128, 1440, 480),\n",
       " dtype('float32'),\n",
       " (1440,),\n",
       " dtype('float32'))"
      ]
     },
     "execution_count": 14,
     "metadata": {},
     "output_type": "execute_result"
    }
   ],
   "source": [
    "n,ntheta,m,nz,nzp,ngpus,data.shape,data.dtype,theta.shape,theta.dtype"
   ]
  },
  {
   "cell_type": "code",
   "execution_count": 15,
   "metadata": {},
   "outputs": [
    {
     "name": "stderr",
     "output_type": "stream",
     "text": [
      "iter (0/128), rdiff ||f(k+1)-f(k)||:0.000000 \n",
      "iter (1/128), rdiff ||f(k+1)-f(k)||:0.000000 \n",
      "iter (2/128), rdiff ||f(k+1)-f(k)||:0.000000 \n",
      "iter (3/128), rdiff ||f(k+1)-f(k)||:0.000000 \n",
      "iter (4/128), rdiff ||f(k+1)-f(k)||:0.000000 \n",
      "iter (5/128), rdiff ||f(k+1)-f(k)||:0.000000 \n",
      "iter (6/128), rdiff ||f(k+1)-f(k)||:0.000000 \n",
      "iter (7/128), rdiff ||f(k+1)-f(k)||:0.000000 \n",
      "iter (8/128), rdiff ||f(k+1)-f(k)||:0.000000 \n",
      "iter (9/128), rdiff ||f(k+1)-f(k)||:0.000000 \n",
      "iter (10/128), rdiff ||f(k+1)-f(k)||:0.000000 \n",
      "iter (11/128), rdiff ||f(k+1)-f(k)||:0.000000 \n",
      "iter (12/128), rdiff ||f(k+1)-f(k)||:0.000000 \n",
      "iter (13/128), rdiff ||f(k+1)-f(k)||:0.000000 \n",
      "iter (14/128), rdiff ||f(k+1)-f(k)||:0.000000 \n",
      "iter (15/128), rdiff ||f(k+1)-f(k)||:0.000000 \n",
      "iter (16/128), rdiff ||f(k+1)-f(k)||:0.000000 \n",
      "iter (17/128), rdiff ||f(k+1)-f(k)||:0.000000 \n",
      "iter (18/128), rdiff ||f(k+1)-f(k)||:0.000000 \n",
      "iter (19/128), rdiff ||f(k+1)-f(k)||:0.000000 \n",
      "iter (20/128), rdiff ||f(k+1)-f(k)||:0.000000 \n",
      "iter (21/128), rdiff ||f(k+1)-f(k)||:0.000000 \n",
      "iter (22/128), rdiff ||f(k+1)-f(k)||:0.000000 \n",
      "iter (23/128), rdiff ||f(k+1)-f(k)||:0.000000 \n",
      "iter (24/128), rdiff ||f(k+1)-f(k)||:0.000000 \n",
      "iter (25/128), rdiff ||f(k+1)-f(k)||:0.000000 \n",
      "iter (26/128), rdiff ||f(k+1)-f(k)||:0.000000 \n",
      "iter (27/128), rdiff ||f(k+1)-f(k)||:0.000000 \n",
      "iter (28/128), rdiff ||f(k+1)-f(k)||:0.000000 \n",
      "iter (29/128), rdiff ||f(k+1)-f(k)||:0.000000 \n",
      "iter (30/128), rdiff ||f(k+1)-f(k)||:0.000000 \n",
      "iter (31/128), rdiff ||f(k+1)-f(k)||:0.000000 \n",
      "iter (32/128), rdiff ||f(k+1)-f(k)||:0.000000 \n",
      "iter (33/128), rdiff ||f(k+1)-f(k)||:0.000000 \n",
      "iter (34/128), rdiff ||f(k+1)-f(k)||:0.000000 \n",
      "iter (35/128), rdiff ||f(k+1)-f(k)||:0.000000 \n",
      "iter (36/128), rdiff ||f(k+1)-f(k)||:0.000000 \n",
      "iter (37/128), rdiff ||f(k+1)-f(k)||:0.000000 \n",
      "iter (38/128), rdiff ||f(k+1)-f(k)||:0.000000 \n",
      "iter (39/128), rdiff ||f(k+1)-f(k)||:0.000000 \n",
      "iter (40/128), rdiff ||f(k+1)-f(k)||:0.000000 \n",
      "iter (41/128), rdiff ||f(k+1)-f(k)||:0.000000 \n",
      "iter (42/128), rdiff ||f(k+1)-f(k)||:0.000000 \n",
      "iter (43/128), rdiff ||f(k+1)-f(k)||:0.000000 \n",
      "iter (44/128), rdiff ||f(k+1)-f(k)||:0.000000 \n",
      "iter (45/128), rdiff ||f(k+1)-f(k)||:0.000000 \n",
      "iter (46/128), rdiff ||f(k+1)-f(k)||:0.000000 \n",
      "iter (47/128), rdiff ||f(k+1)-f(k)||:0.000000 \n",
      "iter (48/128), rdiff ||f(k+1)-f(k)||:0.000000 \n",
      "iter (49/128), rdiff ||f(k+1)-f(k)||:0.000000 \n",
      "iter (50/128), rdiff ||f(k+1)-f(k)||:0.000000 \n",
      "iter (51/128), rdiff ||f(k+1)-f(k)||:0.000000 \n",
      "iter (52/128), rdiff ||f(k+1)-f(k)||:0.000000 \n",
      "iter (53/128), rdiff ||f(k+1)-f(k)||:0.000000 \n",
      "iter (54/128), rdiff ||f(k+1)-f(k)||:0.000000 \n",
      "iter (55/128), rdiff ||f(k+1)-f(k)||:0.000000 \n",
      "iter (56/128), rdiff ||f(k+1)-f(k)||:0.000000 \n",
      "iter (57/128), rdiff ||f(k+1)-f(k)||:0.000000 \n",
      "iter (58/128), rdiff ||f(k+1)-f(k)||:0.000000 \n",
      "iter (59/128), rdiff ||f(k+1)-f(k)||:0.000000 \n",
      "iter (60/128), rdiff ||f(k+1)-f(k)||:0.000000 \n",
      "iter (61/128), rdiff ||f(k+1)-f(k)||:0.000000 \n",
      "iter (62/128), rdiff ||f(k+1)-f(k)||:0.000000 \n",
      "iter (63/128), rdiff ||f(k+1)-f(k)||:0.000000 \n",
      "iter (64/128), rdiff ||f(k+1)-f(k)||:0.000000 \n",
      "iter (65/128), rdiff ||f(k+1)-f(k)||:0.000000 \n",
      "iter (66/128), rdiff ||f(k+1)-f(k)||:0.000000 \n",
      "iter (67/128), rdiff ||f(k+1)-f(k)||:0.000000 \n",
      "iter (68/128), rdiff ||f(k+1)-f(k)||:0.000000 \n",
      "iter (69/128), rdiff ||f(k+1)-f(k)||:0.000000 \n",
      "iter (70/128), rdiff ||f(k+1)-f(k)||:0.000000 \n",
      "iter (71/128), rdiff ||f(k+1)-f(k)||:0.000000 \n",
      "iter (72/128), rdiff ||f(k+1)-f(k)||:0.000000 \n",
      "iter (73/128), rdiff ||f(k+1)-f(k)||:0.000000 \n",
      "iter (74/128), rdiff ||f(k+1)-f(k)||:0.000000 \n",
      "iter (75/128), rdiff ||f(k+1)-f(k)||:0.000000 \n",
      "iter (76/128), rdiff ||f(k+1)-f(k)||:0.000000 \n",
      "iter (77/128), rdiff ||f(k+1)-f(k)||:0.000000 \n",
      "iter (78/128), rdiff ||f(k+1)-f(k)||:0.000000 \n",
      "iter (79/128), rdiff ||f(k+1)-f(k)||:0.000000 \n",
      "iter (80/128), rdiff ||f(k+1)-f(k)||:0.000000 \n",
      "iter (81/128), rdiff ||f(k+1)-f(k)||:0.000000 \n",
      "iter (82/128), rdiff ||f(k+1)-f(k)||:0.000000 \n",
      "iter (83/128), rdiff ||f(k+1)-f(k)||:0.000000 \n",
      "iter (84/128), rdiff ||f(k+1)-f(k)||:0.000000 \n",
      "iter (85/128), rdiff ||f(k+1)-f(k)||:0.000000 \n",
      "iter (86/128), rdiff ||f(k+1)-f(k)||:0.000000 \n",
      "iter (87/128), rdiff ||f(k+1)-f(k)||:0.000000 \n",
      "iter (88/128), rdiff ||f(k+1)-f(k)||:0.000000 \n",
      "iter (89/128), rdiff ||f(k+1)-f(k)||:0.000000 \n",
      "iter (90/128), rdiff ||f(k+1)-f(k)||:0.000000 \n",
      "iter (91/128), rdiff ||f(k+1)-f(k)||:0.000000 \n",
      "iter (92/128), rdiff ||f(k+1)-f(k)||:0.000000 \n",
      "iter (93/128), rdiff ||f(k+1)-f(k)||:0.000000 \n",
      "iter (94/128), rdiff ||f(k+1)-f(k)||:0.000000 \n",
      "iter (95/128), rdiff ||f(k+1)-f(k)||:0.000000 \n",
      "iter (96/128), rdiff ||f(k+1)-f(k)||:0.000000 \n",
      "iter (97/128), rdiff ||f(k+1)-f(k)||:0.000000 \n",
      "iter (98/128), rdiff ||f(k+1)-f(k)||:0.000000 \n",
      "iter (99/128), rdiff ||f(k+1)-f(k)||:0.000000 \n",
      "iter (100/128), rdiff ||f(k+1)-f(k)||:0.000000 \n",
      "iter (101/128), rdiff ||f(k+1)-f(k)||:0.000000 \n",
      "iter (102/128), rdiff ||f(k+1)-f(k)||:0.000000 \n",
      "iter (103/128), rdiff ||f(k+1)-f(k)||:0.000000 \n",
      "iter (104/128), rdiff ||f(k+1)-f(k)||:0.000000 \n",
      "iter (105/128), rdiff ||f(k+1)-f(k)||:0.000000 \n",
      "iter (106/128), rdiff ||f(k+1)-f(k)||:0.000000 \n",
      "iter (107/128), rdiff ||f(k+1)-f(k)||:0.000000 \n",
      "iter (108/128), rdiff ||f(k+1)-f(k)||:0.000000 \n",
      "iter (109/128), rdiff ||f(k+1)-f(k)||:0.000000 \n",
      "iter (110/128), rdiff ||f(k+1)-f(k)||:0.000000 \n",
      "iter (111/128), rdiff ||f(k+1)-f(k)||:0.000000 \n",
      "iter (112/128), rdiff ||f(k+1)-f(k)||:0.000000 \n",
      "iter (113/128), rdiff ||f(k+1)-f(k)||:0.000000 \n",
      "iter (114/128), rdiff ||f(k+1)-f(k)||:0.000000 \n",
      "iter (115/128), rdiff ||f(k+1)-f(k)||:0.000000 \n",
      "iter (116/128), rdiff ||f(k+1)-f(k)||:0.000000 \n",
      "iter (117/128), rdiff ||f(k+1)-f(k)||:0.000000 \n",
      "iter (118/128), rdiff ||f(k+1)-f(k)||:0.000000 \n",
      "iter (119/128), rdiff ||f(k+1)-f(k)||:0.000000 \n",
      "iter (120/128), rdiff ||f(k+1)-f(k)||:0.000000 \n",
      "iter (121/128), rdiff ||f(k+1)-f(k)||:0.000000 \n",
      "iter (122/128), rdiff ||f(k+1)-f(k)||:0.000000 \n",
      "iter (123/128), rdiff ||f(k+1)-f(k)||:0.000000 \n",
      "iter (124/128), rdiff ||f(k+1)-f(k)||:0.000000 \n",
      "iter (125/128), rdiff ||f(k+1)-f(k)||:0.000000 \n",
      "iter (126/128), rdiff ||f(k+1)-f(k)||:0.000000 \n",
      "iter (127/128), rdiff ||f(k+1)-f(k)||:0.000000 \n"
     ]
    }
   ],
   "source": [
    "rtv = cl.recon(data, theta, phi, rot_center=rot_center,\n",
    "              lambda0=lambda0, lambda1=lambda1,\n",
    "              niter=niter, titer=titer)"
   ]
  },
  {
   "cell_type": "markdown",
   "metadata": {},
   "source": [
    "Save results as tiff"
   ]
  },
  {
   "cell_type": "code",
   "execution_count": 16,
   "metadata": {},
   "outputs": [],
   "source": [
    "#for k in range(rtv.shape[0]):\n",
    " #  dxchange.write_tiff_stack(rtv[k], 'rec_tv/rec_'+str(k), overwrite=True)"
   ]
  },
  {
   "cell_type": "markdown",
   "metadata": {},
   "source": [
    "Visualization"
   ]
  },
  {
   "cell_type": "code",
   "execution_count": 17,
   "metadata": {},
   "outputs": [],
   "source": [
    "def foamplot(time,slice):\n",
    "    plt.figure(figsize=(8,8))\n",
    "    plt.imshow(rtv[slice,time],vmin=-0,vmax=0.5,cmap='gray')\n"
   ]
  },
  {
   "cell_type": "code",
   "execution_count": 18,
   "metadata": {},
   "outputs": [
    {
     "data": {
      "application/vnd.jupyter.widget-view+json": {
       "model_id": "8ee6ac604d4143da926360b4c1086077",
       "version_major": 2,
       "version_minor": 0
      },
      "text/plain": [
       "interactive(children=(IntSlider(value=8, description='time', max=15), IntSlider(value=64, description='slice',…"
      ]
     },
     "metadata": {},
     "output_type": "display_data"
    }
   ],
   "source": [
    "interact(foamplot,time=widgets.IntSlider(min=0, max=rtv.shape[1]-1, step=1, value=rtv.shape[1]//2),\\\n",
    "        slice=widgets.IntSlider(min=0, max=rtv.shape[0]-1, step=1, value=rtv.shape[0]//2));"
   ]
  }
 ],
 "metadata": {
  "anaconda-cloud": {},
  "kernelspec": {
   "display_name": "Python 3 (ipykernel)",
   "language": "python",
   "name": "python3"
  },
  "language_info": {
   "codemirror_mode": {
    "name": "ipython",
    "version": 3
   },
   "file_extension": ".py",
   "mimetype": "text/x-python",
   "name": "python",
   "nbconvert_exporter": "python",
   "pygments_lexer": "ipython3",
   "version": "3.9.16"
  }
 },
 "nbformat": 4,
 "nbformat_minor": 1
}
